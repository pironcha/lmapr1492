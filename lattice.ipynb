{
 "cells": [
  {
   "cell_type": "code",
   "execution_count": 1,
   "metadata": {},
   "outputs": [],
   "source": [
    "from pymatgen import Structure\n",
    "from pymatgen.symmetry.analyzer import SpacegroupAnalyzer\n",
    "from pymatgen.analysis.bond_valence import BVAnalyzer\n",
    "from pymatgen.core.composition import Composition\n",
    "from jupyter_jsmol.pymatgen import quick_view\n",
    "from pymatgen.ext.matproj import MPRester\n",
    "from pymatgen.apps.borg.hive import VaspToComputedEntryDrone\n",
    "from pymatgen.apps.borg.queen import BorgQueen\n",
    "from pymatgen.entries.compatibility import MaterialsProjectCompatibility\n",
    "from pymatgen.analysis.phase_diagram import PhaseDiagram, PDPlotter\n",
    "from pymatgen.io.cif import CifWriter\n"
   ]
  },
  {
   "cell_type": "code",
   "execution_count": 11,
   "metadata": {},
   "outputs": [
    {
     "data": {
      "application/vnd.jupyter.widget-view+json": {
       "model_id": "fad8d06af1a94fb8a92f69bbc0d6af87",
       "version_major": 2,
       "version_minor": 0
      },
      "text/plain": [
       "JsmolView(layout=Layout(align_self='stretch', height='400px'))"
      ]
     },
     "metadata": {},
     "output_type": "display_data"
    }
   ],
   "source": [
    "with MPRester(\"FmqEv0sKnKuZGoTP5sb8\") as m:\n",
    "\n",
    "    # Structure for material id\n",
    "    structure = m.get_structure_by_material_id(\"mp-973185\")\n",
    "    # Dos for material id\n",
    "    dos = m.get_dos_by_material_id(\"mp-973185\")\n",
    "\n",
    "    # Bandstructure for material id\n",
    "    bandstructure = m.get_bandstructure_by_material_id(\"mp-973185\")\n",
    "    view=quick_view(structure)\n",
    "    display(view)"
   ]
  },
  {
   "cell_type": "code",
   "execution_count": 21,
   "metadata": {},
   "outputs": [
    {
     "name": "stdout",
     "output_type": "stream",
     "text": [
      "Vecteurs des base du réseau direct:\n",
      "Normes en Å:\n",
      "a = 6.538769030394024\n",
      "b = 6.538769030394024\n",
      "c = 6.538768557591406 \n",
      "Angles en °:\n",
      "alpha = 28.678794745026437\n",
      "beta = 28.678794745026437\n",
      "gamma = 28.678795628352976\n"
     ]
    }
   ],
   "source": [
    "vecteurs = structure.lattice\n",
    "normes = vecteurs.abc\n",
    "angles = vecteurs.angles\n",
    "print(\"Vecteurs des base du réseau direct:\")\n",
    "print(\"Normes en Å:\")\n",
    "print(\"a =\",normes[0])\n",
    "print(\"b =\",normes[1])\n",
    "print(\"c =\",normes[2],\"\")\n",
    "print(\"Angles en °:\")\n",
    "print(\"alpha =\",angles[0])\n",
    "print(\"beta =\",angles[1])\n",
    "print(\"gamma =\",angles[2])"
   ]
  },
  {
   "cell_type": "code",
   "execution_count": 6,
   "metadata": {},
   "outputs": [],
   "source": [
    "structure.to(filename= 'ScAgO2_mp-973185_symmetrized.cif')"
   ]
  },
  {
   "cell_type": "code",
   "execution_count": 22,
   "metadata": {},
   "outputs": [
    {
     "name": "stdout",
     "output_type": "stream",
     "text": [
      "Vecteurs des base du réseau réciproque:\n",
      "Normes en Å:\n",
      "a* = 2.264854647238363\n",
      "b* = 2.264854647238363\n",
      "c* = 2.264854874838138 \n",
      "Angles en °:\n",
      "alpha = 117.86091702723319\n",
      "beta = 117.86091702723319\n",
      "gamma = 117.86091397227963\n"
     ]
    }
   ],
   "source": [
    "\n",
    "vecteurs_r = structure.lattice.reciprocal_lattice\n",
    "normes_r = vecteurs_r.abc\n",
    "angles_r = vecteurs_r.angles\n",
    "print(\"Vecteurs des base du réseau réciproque:\")\n",
    "print(\"Normes en Å:\")\n",
    "print(\"a* =\",normes_r[0])\n",
    "print(\"b* =\",normes_r[1])\n",
    "print(\"c* =\",normes_r[2],\"\")\n",
    "print(\"Angles en °:\")\n",
    "print(\"alpha =\",angles_r[0])\n",
    "print(\"beta =\",angles_r[1])\n",
    "print(\"gamma =\",angles_r[2])"
   ]
  },
  {
   "cell_type": "code",
   "execution_count": 8,
   "metadata": {},
   "outputs": [
    {
     "name": "stdout",
     "output_type": "stream",
     "text": [
      "Type de maille: rhombohedral\n"
     ]
    }
   ],
   "source": [
    "\n",
    "maille = SpacegroupAnalyzer(structure).get_lattice_type()\n",
    "print(\"Type de maille:\", maille )"
   ]
  },
  {
   "cell_type": "code",
   "execution_count": 13,
   "metadata": {},
   "outputs": [
    {
     "name": "stdout",
     "output_type": "stream",
     "text": [
      "Système cristallin : trigonal\n"
     ]
    }
   ],
   "source": [
    "\n",
    "systeme_cristallin = SpacegroupAnalyzer(structure).get_crystal_system()\n",
    "print(\"Système cristallin :\", systeme_cristallin)"
   ]
  },
  {
   "cell_type": "code",
   "execution_count": 14,
   "metadata": {},
   "outputs": [
    {
     "name": "stdout",
     "output_type": "stream",
     "text": [
      "Groupe ponctuel : -3m\n"
     ]
    }
   ],
   "source": [
    "groupe_ponctuel = SpacegroupAnalyzer(structure).get_point_group_symbol()\n",
    "print(\"Groupe ponctuel :\", groupe_ponctuel)"
   ]
  },
  {
   "cell_type": "code",
   "execution_count": null,
   "metadata": {},
   "outputs": [],
   "source": []
  }
 ],
 "metadata": {
  "kernelspec": {
   "display_name": "Python 3",
   "language": "python",
   "name": "python3"
  },
  "language_info": {
   "codemirror_mode": {
    "name": "ipython",
    "version": 3
   },
   "file_extension": ".py",
   "mimetype": "text/x-python",
   "name": "python",
   "nbconvert_exporter": "python",
   "pygments_lexer": "ipython3",
   "version": "3.8.3"
  }
 },
 "nbformat": 4,
 "nbformat_minor": 4
}
